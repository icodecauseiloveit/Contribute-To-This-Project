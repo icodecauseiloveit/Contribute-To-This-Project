{
  "nbformat": 4,
  "nbformat_minor": 0,
  "metadata": {
    "colab": {
      "provenance": [],
      "authorship_tag": "ABX9TyPOe9bxC1NZpTlZBVKc39E0",
      "include_colab_link": true
    },
    "kernelspec": {
      "name": "python3",
      "display_name": "Python 3"
    },
    "language_info": {
      "name": "python"
    }
  },
  "cells": [
    {
      "cell_type": "markdown",
      "metadata": {
        "id": "view-in-github",
        "colab_type": "text"
      },
      "source": [
        "<a href=\"https://colab.research.google.com/github/icodecauseiloveit/Contribute-To-This-Project/blob/master/rag.ipynb\" target=\"_parent\"><img src=\"https://colab.research.google.com/assets/colab-badge.svg\" alt=\"Open In Colab\"/></a>"
      ]
    },
    {
      "cell_type": "markdown",
      "source": [
        "**Installing Dependencies**\n",
        "\n",
        "---\n",
        "\n",
        "\n"
      ],
      "metadata": {
        "id": "bSKzPLoRUr5H"
      }
    },
    {
      "cell_type": "code",
      "execution_count": null,
      "metadata": {
        "id": "7gGbQcBRNWhQ"
      },
      "outputs": [],
      "source": [
        "!pip install streamlit==1.18.1"
      ]
    },
    {
      "cell_type": "markdown",
      "source": [
        "**Import Dependencies**\n",
        "\n",
        "---\n",
        "\n"
      ],
      "metadata": {
        "id": "j8rHvNdkWZUG"
      }
    },
    {
      "cell_type": "code",
      "source": [
        "import streamlit as st"
      ],
      "metadata": {
        "id": "wxgdP5hoPDAQ"
      },
      "execution_count": 3,
      "outputs": []
    }
  ]
}